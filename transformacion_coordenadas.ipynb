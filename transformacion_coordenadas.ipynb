{
 "cells": [
  {
   "cell_type": "code",
   "execution_count": null,
   "metadata": {
    "collapsed": false
   },
   "outputs": [],
   "source": [
    "import os\n",
    "import tarfile\n",
    "\n",
    "#Esto es lo que debemos corregir\n",
    "os.chdir('')\n",
    "resultado = range(201)\n",
    "CP_WATER=0.0235\n",
    "CP_OTHER=0.0258\n",
    "\n",
    "#Abre todos los archivos y los descomprime\n",
    "for archivo in resultado:\n",
    "    os.chdir(str(archivo))\n",
    "    print str(archivo) + os.getcwd()\n",
    "    #print os.listdir(os.getcwd())\n",
    "    os.system('gunzip alpha.other.gz')\n",
    "    os.system('gunzip alpha.water.gz')\n",
    "    os.chdir(os.pardir)"
   ]
  },
  {
   "cell_type": "code",
   "execution_count": null,
   "metadata": {
    "collapsed": false
   },
   "outputs": [],
   "source": [
    "# archivos de entrada (3 archivos)\n",
    "water = \"alpha.water\"\n",
    "other = \"alpha.other\"\n",
    "cp    = \"alpha.cp\"\n",
    "\n",
    "os.getcwd()"
   ]
  },
  {
   "cell_type": "code",
   "execution_count": null,
   "metadata": {
    "collapsed": false
   },
   "outputs": [],
   "source": [
    "for archivo in resultado:\n",
    "\n",
    "    # crear diccionario en blanco\n",
    "    dic_water = {}\n",
    "    dic_other = {}\n",
    "\n",
    "    #abriendo todos los archivos\n",
    "    go = open(str(archivo) + '/' + water,\"r\")\n",
    "    gext = go.readlines()\n",
    "    gext_lines = int(len(gext))\n",
    "\n",
    "    ho = open(str(archivo) + '/' + other,\"r\")\n",
    "    hext = ho.readlines()\n",
    "    hext_lines = int(len(gext))\n",
    "\n",
    "    #escaneo de alphas\n",
    "    for j in range(gext_lines):\n",
    "        if 'internalField' in gext[j]:\n",
    "           counter = int(gext[j+1])\n",
    "    #       print counter\n",
    "           i = j\n",
    "           k = 1\n",
    "           while (counter > 0):\n",
    "               dic_water[k]=float(gext[i+3])\n",
    "    #           print gext[i+3]\n",
    "               i = i + 1\n",
    "               k = k+1\n",
    "               counter = counter - 1\n",
    "\n",
    "    for j in range(hext_lines):\n",
    "        if 'internalField' in hext[j]:\n",
    "           counter = int(hext[j+1])\n",
    "    #       print counter\n",
    "           i = j\n",
    "           k = 1\n",
    "           while (counter > 0):\n",
    "               dic_other[k]=float(hext[i+3])\n",
    "    #           print hext[i+3]\n",
    "               i = i + 1\n",
    "               k = k + 1\n",
    "               counter = counter - 1\n",
    "\n",
    "    #generacion de nuevo alpha.cp\n",
    "    output = open(str(archivo) + '/' + cp,\"w\")\n",
    "    global tmp_counter\n",
    "    global tmp_lines\n",
    "\n",
    "    for j in range(gext_lines):\n",
    "    #    output.write(gext[j])\n",
    "        output.write(gext[j])\n",
    "        if 'internalField' in gext[j]:\n",
    "            counter = int(gext[j+1])\n",
    "            tmp_counter = counter\n",
    "            tmp_lines = j\n",
    "            output.write(gext[j+1])\n",
    "            output.write(gext[j+2])\n",
    "            k = 1\n",
    "            while (counter > 0):\n",
    "                CP = str(dic_water[k]*CP_WATER + dic_other[k]*CP_OTHER)\n",
    "                k = k + 1\n",
    "                output.write(CP)\n",
    "                output.write('\\n')\n",
    "    #print counter\n",
    "    #print CP\n",
    "                counter = counter - 1\n",
    "            break\n",
    "\n",
    "    for l in range(tmp_counter+tmp_lines+3,gext_lines):\n",
    "        output.write(gext[l])\n",
    "\n",
    "    output.close()\n"
   ]
  },
  {
   "cell_type": "code",
   "execution_count": null,
   "metadata": {
    "collapsed": true
   },
   "outputs": [],
   "source": []
  }
 ],
 "metadata": {
  "anaconda-cloud": {},
  "kernelspec": {
   "display_name": "Python [conda root]",
   "language": "python",
   "name": "conda-root-py"
  },
  "language_info": {
   "codemirror_mode": {
    "name": "ipython",
    "version": 3
   },
   "file_extension": ".py",
   "mimetype": "text/x-python",
   "name": "python",
   "nbconvert_exporter": "python",
   "pygments_lexer": "ipython3",
   "version": "3.5.2"
  }
 },
 "nbformat": 4,
 "nbformat_minor": 0
}
